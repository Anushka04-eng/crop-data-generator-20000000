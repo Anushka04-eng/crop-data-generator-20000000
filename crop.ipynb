{
 "cells": [
  {
   "cell_type": "code",
   "execution_count": 56,
   "metadata": {},
   "outputs": [],
   "source": [
    "import mysql.connector\n",
    "import random\n",
    "from faker import Faker\n",
    "from datetime import datetime, timedelta\n",
    "import csv"
   ]
  },
  {
   "cell_type": "code",
   "execution_count": 57,
   "metadata": {},
   "outputs": [],
   "source": [
    "# Initialize Faker for generating random data\n",
    "fake = Faker()"
   ]
  },
  {
   "cell_type": "code",
   "execution_count": 58,
   "metadata": {},
   "outputs": [],
   "source": [
    "# MySQL Database Connection Details\n",
    "DB_CONFIG = {\n",
    "    \"host\": \"localhost\",\n",
    "    \"user\": \"root\",\n",
    "    \"password\": \"12345\",\n",
    "    \"database\": \"crop_management\"\n",
    "}"
   ]
  },
  {
   "cell_type": "code",
   "execution_count": 59,
   "metadata": {},
   "outputs": [],
   "source": [
    "# Connect to MySQL\n",
    "conn = mysql.connector.connect(**DB_CONFIG)\n",
    "cursor = conn.cursor()\n",
    "\n",
    "# Create crops table if not exists\n",
    "cursor.execute(\"\"\"\n",
    "CREATE TABLE IF NOT EXISTS crops (\n",
    "    id INT AUTO_INCREMENT PRIMARY KEY,\n",
    "    crop_name VARCHAR(255) NOT NULL,\n",
    "    planting_date DATE,\n",
    "    harvest_date DATE,\n",
    "    growth_stage VARCHAR(255),\n",
    "    pest_control_measures TEXT,\n",
    "    yield_prediction INT\n",
    ")\n",
    "\"\"\")\n",
    "conn.commit()"
   ]
  },
  {
   "cell_type": "code",
   "execution_count": 60,
   "metadata": {},
   "outputs": [],
   "source": [
    "# List of sample crop names\n",
    "crop_names = [\"Wheat\", \"Rice\", \"Corn\", \"Soybean\", \"Barley\", \"Sugarcane\", \"Cotton\", \"Potato\", \"Tomato\", \"Lettuce\"]\n",
    "\n",
    "# List of possible growth stages\n",
    "growth_stages = [\"Seedling\", \"Vegetative\", \"Flowering\", \"Fruiting\", \"Maturity\"]\n",
    "\n",
    "# List of sample pest control measures\n",
    "pest_control_measures_list = [\n",
    "    \"Use of organic pesticides\",\n",
    "    \"Crop rotation\",\n",
    "    \"Neem oil application\",\n",
    "    \"Biological pest control\",\n",
    "    \"Chemical pesticides\",\n",
    "    \"Regular field monitoring\",\n",
    "]"
   ]
  },
  {
   "cell_type": "code",
   "execution_count": 61,
   "metadata": {},
   "outputs": [],
   "source": [
    "# Function to generate random data for crops\n",
    "def generate_data():\n",
    "    crop_name = random.choice(crop_names)\n",
    "    planting_date = fake.date_between(start_date=\"-2y\", end_date=\"today\")  # Planting in last 2 years\n",
    "    harvest_date = planting_date + timedelta(days=random.randint(60, 180))  # Harvest after 2-6 months\n",
    "    growth_stage = random.choice(growth_stages)\n",
    "    pest_control = random.choice(pest_control_measures_list)\n",
    "    yield_prediction = random.randint(500, 5000)  # Yield in kg\n",
    "    \n",
    "    return (crop_name, planting_date, harvest_date, growth_stage, pest_control, yield_prediction)"
   ]
  },
  {
   "cell_type": "code",
   "execution_count": 62,
   "metadata": {},
   "outputs": [
    {
     "name": "stdout",
     "output_type": "stream",
     "text": [
      "100000 records inserted...\n",
      "200000 records inserted...\n",
      "✅ Data insertion completed successfully!\n"
     ]
    }
   ],
   "source": [
    "# Batch insert records in chunks\n",
    "batch_size = 100000  # Insert 100,000 at a time for efficiency\n",
    "total_records = 200000\n",
    "\n",
    "for i in range(0, total_records, batch_size):\n",
    "    data_batch = [generate_data() for _ in range(batch_size)]\n",
    "    \n",
    "    # Execute batch insert\n",
    "    cursor.executemany(\"\"\"\n",
    "        INSERT INTO crops (crop_name, planting_date, harvest_date, growth_stage, pest_control_measures, yield_prediction)\n",
    "        VALUES (%s, %s, %s, %s, %s, %s)\n",
    "    \"\"\", data_batch)\n",
    "    conn.commit()\n",
    "    \n",
    "    print(f\"{i + batch_size} records inserted...\")\n",
    "\n",
    "print(\"✅ Data insertion completed successfully!\")\n",
    "\n",
    "# Close the database connection\n",
    "cursor.close()\n",
    "conn.close()"
   ]
  },
  {
   "cell_type": "code",
   "execution_count": null,
   "metadata": {},
   "outputs": [],
   "source": [
    "import mysql.connector\n",
    "import csv\n",
    "\n",
    "# ✅ Step 1: Connect to MySQL\n",
    "DB_CONFIG = {\n",
    "    \"user\": \"root\",                # Your MySQL username\n",
    "    \"password\": \"12345\",   # Your MySQL password\n",
    "    \"host\": \"localhost\",           # Database host\n",
    "    \"database\": \"crop_management\"    # Your database name\n",
    "}\n",
    "\n",
    "try:\n",
    "    conn = mysql.connector.connect(**DB_CONFIG)\n",
    "    cursor = conn.cursor()\n",
    "\n",
    "    # ✅ Step 2: Execute SQL Query to Get Data\n",
    "    query = \"SELECT * FROM crops\"\n",
    "    cursor.execute(query)\n",
    "\n",
    "    # ✅ Step 3: Fetch All Data\n",
    "    rows = cursor.fetchall()\n",
    "    column_names = [desc[0] for desc in cursor.description]  # Get column names\n",
    "\n",
    "    # ✅ Step 4: Write Data to CSV\n",
    "    csv_file_path = \"out.csv\"  # Change this to your desired path\n",
    "    with open(csv_file_path, mode=\"w\", newline=\"\", encoding=\"utf-8\") as file:\n",
    "        writer = csv.writer(file)\n",
    "        writer.writerow(column_names)  # Write column headers\n",
    "        writer.writerows(rows)  # Write data rows\n",
    "\n",
    "    print(f\"✅ Data exported successfully to {csv_file_path}\")\n",
    "\n",
    "except mysql.connector.Error as e:\n",
    "    print(f\"❌ Error: {e}\")\n",
    "\n",
    "finally:\n",
    "    if conn.is_connected():\n",
    "        cursor.close()\n",
    "        conn.close()\n"
   ]
  }
 ],
 "metadata": {
  "kernelspec": {
   "display_name": ".venv",
   "language": "python",
   "name": "python3"
  },
  "language_info": {
   "codemirror_mode": {
    "name": "ipython",
    "version": 3
   },
   "file_extension": ".py",
   "mimetype": "text/x-python",
   "name": "python",
   "nbconvert_exporter": "python",
   "pygments_lexer": "ipython3",
   "version": "3.12.2"
  }
 },
 "nbformat": 4,
 "nbformat_minor": 2
}
